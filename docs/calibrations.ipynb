{
 "cells": [
  {
   "cell_type": "markdown",
   "metadata": {},
   "source": [
    "# Pre-computed calibrations\n",
    "\n",
    "## Bad-pixel mask\n",
    "\n",
    "File: [BadPixMask_F.fits](http://guaix.fis.ucm.es/~ncl/temp/BadPixMask_F.fits)\n",
    "\n",
    "## Multislit boundaries\n",
    "\n",
    "Multislit boundaries:\n",
    "- grism J + filter J: [refined_multislit_param_grism_J_filter_J.json](http://guaix.fis.ucm.es/~ncl/temp/refined_multislit_param_grism_J_filter_J.json)\n",
    "- grism H + filter H: [refined_multislit_param_grism_H_filter_H.json](http://guaix.fis.ucm.es/~ncl/temp/refined_multislit_param_grism_H_filter_H.json)\n",
    "- grism K + filter Ksp: [refined_multislit_param_grism_K_filter_Ksp.json](http://guaix.fis.ucm.es/~ncl/temp/refined_multislit_param_grism_K_filter_Ksp.json)\n",
    "- grism LR + filter YJ: [refined_multislit_param_grism_LR_filter_YJ.json](http://guaix.fis.ucm.es/~ncl/temp/refined_multislit_param_grism_LR_filter_YJ.json)\n",
    "- grism LR + filter HK: TBD\n",
    "\n",
    "## Rectification and wavelength calibration transformations\n",
    "\n",
    "Rectification and wavelength calibration transformations: computed from arc exposures (lamps ON and OFF could also be useful although not critical)\n",
    "\n",
    "- grism J + filter J: [coef_rect_wpoly_ls06_grism_J_filter_J_direct_verified.json](http://guaix.fis.ucm.es/~ncl/temp/coef_rect_wpoly_ls06_grism_J_filter_J_direct_verified.json)\n",
    "- grism H + filter H: TBD\n",
    "- grism K + filter Ksp: TBD\n",
    "- grism LR + filter YJ: TBD\n",
    "- grism LR + filter HK: TBD\n",
    "\n",
    "## Flatfield (pixel-to-pixel variations)\n",
    "\n",
    "Pixel-to-pixel variation flatfield: ideally computed from continuum lamp exposures with lamp ON and OFF.\n",
    "\n",
    "- grism J + filter J: [continuum_ls06_J_J_on-off_flat.fits](http://guaix.fis.ucm.es/~ncl/temp/continuum_ls06_J_J_on-off_flat.fits)\n",
    "- grism H + filter H: TBD\n",
    "- grism K + filter Ksp: TBD\n",
    "- grism LR + filter YJ: TBD\n",
    "- grism LR + filter HK: TBD\n",
    "\n"
   ]
  },
  {
   "cell_type": "code",
   "execution_count": null,
   "metadata": {
    "collapsed": true
   },
   "outputs": [],
   "source": []
  }
 ],
 "metadata": {
  "kernelspec": {
   "display_name": "Python 3",
   "language": "python",
   "name": "python3"
  },
  "language_info": {
   "codemirror_mode": {
    "name": "ipython",
    "version": 3
   },
   "file_extension": ".py",
   "mimetype": "text/x-python",
   "name": "python",
   "nbconvert_exporter": "python",
   "pygments_lexer": "ipython3",
   "version": "3.5.2"
  }
 },
 "nbformat": 4,
 "nbformat_minor": 2
}

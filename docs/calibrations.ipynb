{
 "cells": [
  {
   "cell_type": "markdown",
   "metadata": {},
   "source": [
    "<img src=\"emir_color_853x315_trans.png\" alt=\"EMIR logo\" style=\"float: right; width: 150px;\"/>\n",
    "\n",
    "# Precomputed calibrations\n",
    "\n",
    "## Bad-pixel mask\n",
    "\n",
    "File: [BadPixMask_F.fits](BadPixMask_F.fits)\n",
    "\n",
    "In order to apply the mask:\n",
    "```bash\n",
    "$ numina-bpm filein.fits \\\n",
    "  --bpm BacPixMask_F.fits \\\n",
    "  --outfile fileout.fits\n",
    "```\n",
    "\n",
    "For additional help execute:\n",
    "```bash\n",
    "$ numina-bpm --help\n",
    "```\n"
   ]
  },
  {
   "cell_type": "markdown",
   "metadata": {
    "collapsed": true
   },
   "source": [
    "## Multislit boundary models\n",
    "\n",
    "Multislit boundary models, computed from continuum images with even and odd slitlets alternatively opened and closed, are available for each grism + filter combination:\n",
    "\n",
    "- grism J + filter J: [refined_multislit_param_grism_J_filter_J.json](refined_multislit_param_grism_J_filter_J.json)\n",
    "- grism H + filter H: [refined_multislit_param_grism_H_filter_H.json](refined_multislit_param_grism_H_filter_H.json)\n",
    "- grism K + filter Ksp: [refined_multislit_param_grism_K_filter_Ksp.json](refined_multislit_param_grism_K_filter_Ksp.json)\n",
    "- grism LR + filter YJ: [refined_multislit_param_grism_LR_filter_YJ.json](refined_multislit_param_grism_LR_filter_YJ.json)\n",
    "- grism LR + filter HK: [refined_multislit_param_grism_LR_filter_HK.json](refined_multislit_param_grism_LR_filter_HK.json)\n",
    "\n",
    "The script `pyemir-overplot_boundary_model` can be used to overplot the boundary model over any FITS image. In addition, by using the optional arguments `--ds9reg_boundaries` or/and `--ds9reg_frontiers`, this script can generate ds9 region files with the boundaries and frontiers of all the slitlets.\n",
    "\n",
    "```bash\n",
    "$ pyemir-overplot_boundary_model filein.fits \\\n",
    "  --fitted_bound_param refined_multislit_param_grism_J_filter_J.json \\\n",
    "  --ds9reg_boundaries ds9_boundaries.reg \\\n",
    "  --ds9reg_frontiers ds9_frontiers.reg\n",
    "```\n",
    "\n",
    "For additional help execute:\n",
    "\n",
    "```bash\n",
    "$ pyemir-overplot_boundary_model --help\n",
    "```"
   ]
  },
  {
   "cell_type": "markdown",
   "metadata": {},
   "source": [
    "## Flatfield (pixel-to-pixel variations)\n",
    "\n",
    "Pixel-to-pixel variation flatfield: ideally computed from continuum lamp exposures with lamp ON and OFF.\n",
    "\n",
    "*Warning: spurious signal (ghosts?) present*\n",
    "\n",
    "- grism J + filter J: [continuum_ls05_J_J_on-off_flat.fits](continuum_ls05_J_J_on-off_flat.fits)\n",
    "- grism H + filter H: [continuum_ls06_H_H_on-off_flat.fits](continuum_ls06_H_H_on-off_flat.fits)\n",
    "- grism K + filter Ksp: [continuum_ls08_K_Ksp_on-off_flat.fits](continuum_ls08_K_Ksp_on-off_flat.fits)\n",
    "- grism LR + filter YJ: TBD\n",
    "- grism LR + filter HK: TBD\n"
   ]
  },
  {
   "cell_type": "markdown",
   "metadata": {},
   "source": [
    "## Rectification and wavelength calibration transformations\n",
    "\n",
    "Library of rectification and wavelength calibration transformations (computed from arc exposures):\n",
    "\n",
    "- grism J + filter J: [rect_wpoly_MOSlibrary_grism_J_filter_J.json](rect_wpoly_MOSlibrary_grism_J_filter_J.json)\n",
    "- grism H + filter H: [rect_wpoly_MOSlibrary_grism_H_filter_H.json](rect_wpoly_MOSlibrary_grism_H_filter_H.json)\n",
    "- grism K + filter Ksp: [rect_wpoly_MOSlibrary_grism_K_filter_Ksp.json](rect_wpoly_MOSlibrary_grism_K_filter_Ksp.json)\n",
    "- grism LR + filter YJ: TBD\n",
    "- grism LR + filter HK: TBD\n",
    "\n",
    "The previous files contain, for each grism+filter configuration, the variation of every coefficient corresponding to the rectification and wavelength calibration polynomials, for a collection of CSU configurations (i.e., different `csu_bar_slit_center` values).\n",
    "\n",
    "The process to proceed with the rectification and wavelength calibration of a particular image is carried out in two steps."
   ]
  },
  {
   "cell_type": "markdown",
   "metadata": {},
   "source": [
    "<div class=\"alert alert-block alert-danger\">\n",
    "Please, note that in its current state, this functionality still needs to be improved in order to:\n",
    "<ul>\n",
    "    <li> Carry out the rectfication process using an interpolation technique that takes into account fraction of pixels preserving the flux (at present the code uses the nearest-neighbor algorithm, which preserves the flux but leads to a typical zigzag pattern; on the other side, this approach is fast).</li>\n",
    "    <li> Take into account DTU shifts (that still need to be properly calibrated).</li>\n",
    "</ul>\n",
    "In addition, it is important to realize that the method described below makes use of an interpolation technique based on calibration images obtained in a discrete sampling of the CSU configuration.\n",
    "<br><br>\n",
    "<b>For all those reasons, it is not unexpected that the absolute wavelength calibration might suffer from small systematic offsets.</b>\n",
    "</div>"
   ]
  },
  {
   "cell_type": "markdown",
   "metadata": {},
   "source": [
    "**Step 1: derive the rectification and wavelength calibration polynomials for a particular CSU configuration**\n",
    "\n",
    "The script `pyemir-evaluate_rect_wpoly` is employed to obtain a linear interpolation of the rectification and wavelength calibration coefficients from the two nearest `csu_bar_slit_center` configurations.\n",
    "\n",
    "```bash\n",
    "$ pyemir-evaluate_rect_wpoly infile.fits \\\n",
    "  --rect_wpoly_MOSlibrary rect_wpoly_MOSlibrary_grism_J_filter_J.json \\\n",
    "  --out_rect_wpoly coef_rect_wpoly_from_mosmodel.json\n",
    "```\n",
    "\n",
    "For additional help execute:\n",
    "\n",
    "```bash\n",
    "$ pyemir-evaluate_rect_wpoly --help\n",
    "```\n",
    "\n",
    "**Step 2: apply the rectfication and wavelength calibration polynomials for a particular CSU configuration**\n",
    "\n",
    "Next, the generated JSON file `coef_rect_wpoly_from_mosmodel.json` is be employed to rectify and wavelength calibrate any image obtained with the same instrumental setup and CSU configuration.\n",
    "\n",
    "```bash\n",
    "$ pyemir-apply_rect_wpoly infile.fits \\\n",
    "  --coef_rect_wpoly coef_rect_wpoly_from_mosmodel.json \\\n",
    "  --outfile infile_rw.fits \\\n",
    "  --outfile_rectified_only infile_r.fits\n",
    "```\n",
    "\n",
    "Note that the last parameter, `--outfile_rectified_only` is optional.\n",
    "\n",
    "For additional help execute:\n",
    "\n",
    "```bash\n",
    "$ pyemir-apply_rect_wpoly --help\n",
    "```"
   ]
  },
  {
   "cell_type": "code",
   "execution_count": 1,
   "metadata": {},
   "outputs": [
    {
     "name": "stdout",
     "output_type": "stream",
     "text": [
      "Thu Apr  5 15:33:57 CEST 2018\n"
     ]
    }
   ],
   "source": [
    "%%bash\n",
    "date"
   ]
  },
  {
   "cell_type": "code",
   "execution_count": null,
   "metadata": {},
   "outputs": [],
   "source": []
  }
 ],
 "metadata": {
  "kernelspec": {
   "display_name": "Python 3",
   "language": "python",
   "name": "python3"
  },
  "language_info": {
   "codemirror_mode": {
    "name": "ipython",
    "version": 3
   },
   "file_extension": ".py",
   "mimetype": "text/x-python",
   "name": "python",
   "nbconvert_exporter": "python",
   "pygments_lexer": "ipython3",
   "version": "3.6.4"
  }
 },
 "nbformat": 4,
 "nbformat_minor": 2
}

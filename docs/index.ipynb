{
 "cells": [
  {
   "cell_type": "markdown",
   "metadata": {},
   "source": [
    "# Pyemir auxiliary scripts\n",
    "\n",
    "Here you can find the required information to use some auxiliary scripts that are included in the `pyemir` package. Note that these scripts have been created to test some functionality implemented within `pyemir` for the reduction of spectroscopic data. With these scripts you can carry out some steps of the data reduction from the command line."
   ]
  },
  {
   "cell_type": "markdown",
   "metadata": {},
   "source": [
    "## Installation of `numina` and `pyemir`\n",
    "\n",
    "First things first. You need to have `numina` and `pyemir` already installed in your system. Since some of the scripts described below are being updated with the user's feedback, it is advisible to download the latest development version of both packages. Considering that both, `numina` and `pyemir` are written in Python, you need to have a Python interpreter running in your system.\n",
    "\n",
    "### Installing the Python interpreter and some auxiliary packages\n",
    "\n",
    "My recommendation: to use `Miniconda` to handle the installation of the proper Python interpreter and some auxiliary packages. Note that `Miniconda` and `Anaconda` are not the same thing. Actually, `Miniconda` is a smaller alternative to `Astroconda`. `Miniconda` just contains the `conda` package manager and python. After installing this, you can install individual python packages easily using `conda` (see below). On the other hand, `Anaconda` contains not only `conda` and python, but also a large collection of additional python packages. By installing simply `Miniconda` you reduce the amount of packages preinstalled in your system (after installing `Miniconda` it is possible to install `Anaconda` by executing `conda install anaconda`).\n",
    "\n",
    "As explained below, the use of `conda` will help you to isolate the installation of the python packages in something called *an environment*, which will prevent the collision of all these software packages with any previous python installation in your system.\n",
    "\n",
    "1. Visit the [miniconda](https://conda.io/miniconda.html) webpage and download the installer corresponding to your operative system (and, preferably, Python 3.6).\n",
    "\n",
    "2. Create a conda environment to have all the relevant python code isolated from any additinal python installations you may have in your system.\n",
    "```bash\n",
    "$ conda create --name py36 python=3.6 \\\n",
    "  astropy \\\n",
    "  cython \\\n",
    "  ipython \\\n",
    "  matplotlib \\\n",
    "  numpy \\\n",
    "  photutils \\\n",
    "  pytest \\\n",
    "  PyYaml \\\n",
    "  scikit-image \\\n",
    "  scipy \\\n",
    "  setuptools \\\n",
    "  six \\\n",
    "  sphinx\n",
    "```\n",
    "(accept the installation of all the additional packages suggested by conda in order to install the list of packages indicated in the previous command)\n",
    "\n",
    "3. The last step has created a new environment called (arbitrarily) `py36`, within which a Python 3.6 interpreter has been installed together with the list of additional packages provided. In order to use this particular python environment, you need to activate it:\n",
    "```bash\n",
    "$ source activate py36\n",
    "(py36) $\n",
    "```\n",
    "Note that the system prompt is preceeded by `(py36)`, indicating the environment name. Once within this environment, you can use the following command to check that the current python version corresponds to the one requested when creating the environment\n",
    "```bash\n",
    "(py36) $ python --version\n",
    "Python 3.6.4 :: Anaconda, Inc.\n",
    "```\n",
    "\n",
    "4. You can exit the `py36` environment at any time just by typing\n",
    "```bash\n",
    "(py36) $ source deactivate\n",
    "$\n",
    "```\n",
    "\n",
    "\n",
    "### Installing numina\n",
    "\n",
    "Bla, bla, bla\n",
    "\n",
    "### Installing pyemir\n",
    "\n",
    "Bla, bla, bla"
   ]
  },
  {
   "cell_type": "markdown",
   "metadata": {},
   "source": []
  }
 ],
 "metadata": {
  "kernelspec": {
   "display_name": "Python 3",
   "language": "python",
   "name": "python3"
  },
  "language_info": {
   "codemirror_mode": {
    "name": "ipython",
    "version": 3
   },
   "file_extension": ".py",
   "mimetype": "text/x-python",
   "name": "python",
   "nbconvert_exporter": "python",
   "pygments_lexer": "ipython3",
   "version": "3.5.2"
  }
 },
 "nbformat": 4,
 "nbformat_minor": 2
}

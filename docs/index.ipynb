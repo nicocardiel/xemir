{
 "cells": [
  {
   "cell_type": "markdown",
   "metadata": {},
   "source": [
    "<img src=\"emir_color_853x315_trans.png\" alt=\"EMIR logo\" style=\"float: right; width: 150px;\"/>\n",
    "\n",
    "# Pyemir auxiliary scripts\n",
    "\n",
    "Here you can find the required information to use some auxiliary scripts that are included in the `pyemir` package. Note that these scripts have been created to test some functionality implemented within `pyemir` for the reduction of spectroscopic data. With these scripts you can carry out some steps of the data reduction from the command line.\n",
    "\n",
    "## Documentation index\n",
    "\n",
    "- [Installation of `numina` and `pyemir`](installation.html)\n",
    "- [Precomputed calibrations](calibrations.html)\n",
    "- [Example of reduction of a spectrophotometric standard star](comm2b_hd209290.html)\n",
    "- [Example of reduction of the central spectrum of a galaxy](comm2b_ngc7798.html)"
   ]
  },
  {
   "cell_type": "markdown",
   "metadata": {},
   "source": [
    "<div class=\"alert alert-block alert-danger\">\n",
    "<b>Please, note that these scripts are becoming obsolete. Their functionality is being transferred to `numina` and `pyemir` at this moment.</b></div>"
   ]
  },
  {
   "cell_type": "markdown",
   "metadata": {},
   "source": [
    "<div class=\"alert alert-block alert-warning\">\n",
    "PyEmir is free software: you can redistribute it and/or modify\n",
    "it under the terms of the GNU General Public License as published by\n",
    "the Free Software Foundation, either version 3 of the License, or\n",
    "(at your option) any later version.\n",
    "<br><br>\n",
    "PyEmir is distributed in the hope that it will be useful,\n",
    "but WITHOUT ANY WARRANTY; without even the implied warranty of\n",
    "MERCHANTABILITY or FITNESS FOR A PARTICULAR PURPOSE.  See the\n",
    "GNU General Public License for more details.\n",
    "<br><br>\n",
    "You should have received a copy of the GNU General Public License\n",
    "along with PyEmir.  If not, see <a href=\"http://www.gnu.org/licenses/\">http://www.gnu.org/licenses/</a>.</div>\n"
   ]
  },
  {
   "cell_type": "code",
   "execution_count": 1,
   "metadata": {},
   "outputs": [
    {
     "name": "stdout",
     "output_type": "stream",
     "text": [
      "Wed Apr 25 15:47:06 CEST 2018\n"
     ]
    }
   ],
   "source": [
    "%%bash\n",
    "date"
   ]
  },
  {
   "cell_type": "code",
   "execution_count": null,
   "metadata": {},
   "outputs": [],
   "source": []
  }
 ],
 "metadata": {
  "kernelspec": {
   "display_name": "Python 3",
   "language": "python",
   "name": "python3"
  },
  "language_info": {
   "codemirror_mode": {
    "name": "ipython",
    "version": 3
   },
   "file_extension": ".py",
   "mimetype": "text/x-python",
   "name": "python",
   "nbconvert_exporter": "python",
   "pygments_lexer": "ipython3",
   "version": "3.6.4"
  }
 },
 "nbformat": 4,
 "nbformat_minor": 2
}
